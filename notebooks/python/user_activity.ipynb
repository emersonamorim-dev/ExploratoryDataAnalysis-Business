{
 "cells": [
  {
   "cell_type": "code",
   "execution_count": null,
   "metadata": {},
   "outputs": [],
   "source": [
    "# Importando as bibliotecas necessárias\n",
    "import pandas as pd\n",
    "import numpy as np\n",
    "import matplotlib.pyplot as plt\n",
    "import seaborn as sns\n",
    "\n",
    "# Carregar os dados\n",
    "user_activity_data = pd.read_csv('../data/processed/user_activity_daily.csv')\n",
    "\n",
    "# Visualização geral dos dados\n",
    "user_activity_data.head()\n",
    "\n",
    "# Análise do número de logins diários\n",
    "plt.figure(figsize=(14, 7))\n",
    "sns.lineplot(x='Date', y='Total_Logins', data=user_activity_data)\n",
    "plt.title('Número de Logins Diários')\n",
    "plt.xticks(rotation=45)\n",
    "plt.show()\n",
    "\n",
    "# Análise de visualizações de produtos x compras\n",
    "plt.figure(figsize=(14, 7))\n",
    "sns.lineplot(x='Date', y='Total_Product_Views', data=user_activity_data, label='Visualizações de Produtos')\n",
    "sns.lineplot(x='Date', y='Total_Purchases', data=user_activity_data, label='Compras')\n",
    "plt.title('Visualizações de Produtos vs Compras')\n",
    "plt.xticks(rotation=45)\n",
    "plt.legend()\n",
    "plt.show()\n",
    "\n",
    "# Calculando a taxa de conversão\n",
    "user_activity_data['Conversion_Rate'] = user_activity_data['Total_Purchases'] / user_activity_data['Total_Product_Views']\n"
   ]
  }
 ],
 "metadata": {
  "language_info": {
   "name": "python"
  },
  "orig_nbformat": 4
 },
 "nbformat": 4,
 "nbformat_minor": 2
}
